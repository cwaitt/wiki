{
 "cells": [
  {
   "cell_type": "markdown",
   "id": "1daf1c97",
   "metadata": {},
   "source": [
    "## Import Libraries"
   ]
  },
  {
   "cell_type": "code",
   "execution_count": null,
   "id": "2f1aa80d",
   "metadata": {},
   "outputs": [],
   "source": [
    "# Import numerical tools\n",
    "import numpy as np\n",
    "import pandas as pd\n",
    "import matplotlib.pyplot as plt\n",
    "import seaborn as sns              #Similar to Matplotlib but it's more simple to manage dataframe\n",
    "\n",
    "# Import ASE tools\n",
    "from ase.calculators.vasp import Vasp\n",
    "from ase.db import connect\n",
    "from ase.visualize import view\n",
    "from ase.io import write, read\n",
    "\n",
    "# Import OS and Subprocess libraries\n",
    "import os\n",
    "import subprocess"
   ]
  },
  {
   "cell_type": "markdown",
   "id": "61e81463",
   "metadata": {},
   "source": [
    "# Use OS and Subprocess to explore folders"
   ]
  },
  {
   "cell_type": "code",
   "execution_count": null,
   "id": "f878a655",
   "metadata": {},
   "outputs": [],
   "source": [
    "# Using os.system you can execute command batch but you can not storage in a variable\n",
    "batch_command = \"ls -d */\"\n",
    "\n",
    "print(\"Results using os.system\")\n",
    "a = os.system(batch_command)\n",
    "# print(\"Result if we try to storage the variable \", a) # It is a batch result, 0 if the command run correct and 1 if it not\n",
    "\n",
    "\n",
    "\n",
    "\n",
    "# Using subprocess you can do the same but you can define a variable and storage the result\n",
    "result_batch_command = subprocess.check_output(batch_command, shell = True)\n",
    "result_batch_command = result_batch_command.decode('utf-8') # Convert a bytes variable to string variable\n",
    "result_batch_command = result_batch_command.splitlines()    # Split by /n\n",
    "\n",
    "print(\"\")\n",
    "print(\"Results using subprocess\")\n",
    "for res_txt in result_batch_command:\n",
    "    print(res_txt)"
   ]
  },
  {
   "cell_type": "markdown",
   "id": "877f548b",
   "metadata": {},
   "source": [
    "# Use ASE to read VASP results"
   ]
  },
  {
   "cell_type": "code",
   "execution_count": null,
   "id": "94852db4",
   "metadata": {},
   "outputs": [],
   "source": [
    "# If you have your DFT results from VASP you can use ASE to verify some of your results\n",
    "\n",
    "# Using Vasp Calculators from ASE you can read the correspoding folder\n",
    "Directory = result_batch_command[0]   # result_batch_command[0] should be a directory with the final VASP output files  \n",
    "print(\"Directory read: \", Directory, \"\\n\")\n",
    "calc = Vasp(directory = Directory)\n",
    "calc.read()\n",
    "\n",
    "# Get the atoms final position\n",
    "atoms = calc.get_atoms()\n",
    "# view(atoms)\n",
    "\n",
    "# Some validation\n",
    "print('Converged? ', calc.converged, \"\\n\")\n",
    "\n",
    "print(\"Energy when sigma -> 0, \", atoms.get_potential_energy(), \" eV\")\n",
    "# You can obtain this value using the terminal:\n",
    "pot_energy = subprocess.check_output(\"grep sigma \" + Directory + \"OUTCAR | tail -1\", shell = True)\n",
    "print(\"Energy Line using the batch\")\n",
    "print(pot_energy,\"\\n\")\n",
    "\n",
    "print(\"Forces per atom in eV/Å\")\n",
    "print(atoms.get_forces())"
   ]
  },
  {
   "cell_type": "markdown",
   "id": "6699cdef",
   "metadata": {},
   "source": [
    "## Look up Convergence Criteria"
   ]
  },
  {
   "cell_type": "code",
   "execution_count": null,
   "id": "319b7f5a",
   "metadata": {},
   "outputs": [],
   "source": [
    "# Define the default EDIFF and EDIFFG values\n",
    "EDIFF_value  = 1e-4\n",
    "EDIFFG_value = EDIFF_value*10\n",
    "\n",
    "# Read INCAR File to look up for the correspoding tag\n",
    "f = open(Directory + 'INCAR')\n",
    "alllines=f.readlines()\n",
    "f.close()\n",
    "n = len(alllines)\n",
    "\n",
    "for i in reversed(range(n)):\n",
    "    line = alllines[i]\n",
    "    \n",
    "    # Get EDIFF Value\n",
    "    if 'EDIFF' in line:\n",
    "        EDIFF_value = float(line[9:])\n",
    "    \n",
    "    # Get EDIFFG Value\n",
    "    if 'EDIFFG' in line:\n",
    "        EDIFFG_value = float(line[9:])\n",
    "\n",
    "    \n",
    "print(\"EDIFF value, \" , EDIFF_value, \"eV\")\n",
    "if EDIFFG_value >= 0:\n",
    "    print(\"EDIFFG Positive, the relaxation is stopped when the change of the total energy is smaller than EDIFFG between two ionic steps, \", EDIFFG_value)\n",
    "else:\n",
    "    print(\"EDIFFG Negative, the relaxation is stopped when the norms of all the forces are smaller than |EDIFFG|, \", EDIFFG_value)\n",
    "    \n"
   ]
  },
  {
   "cell_type": "code",
   "execution_count": null,
   "id": "de7059f8",
   "metadata": {},
   "outputs": [],
   "source": [
    "try:\n",
    "    check_validation_forces = subprocess.check_output(\"grep 'FORCES:' \"+ Directory + \"OUTCAR\", shell=True)\n",
    "except:\n",
    "    check_validation_forces = -1\n",
    "    \n",
    "if check_validation_forces != -1:\n",
    "    f = os.popen(\"grep 'FORCES:' \"+ Directory +  \"OUTCAR\")\n",
    "    fmax = []\n",
    "    for line in f:\n",
    "        fields = line.split()\n",
    "        fmax.append(float(fields[4]))\n",
    "    fmax_value = fmax[-1]\n",
    "    print('Max force is {0} eV/A'.format(fmax_value))\n",
    "    \n",
    "else:\n",
    "    f = open(Directory + 'OUTCAR')\n",
    "    alllines=f.readlines()\n",
    "    f.close()\n",
    "    n = len(alllines)\n",
    "    for i in reversed(range(n)):\n",
    "        line = alllines[i]\n",
    "        if 'TOTAL-FORCE' in line:\n",
    "            break\n",
    "    i+=2\n",
    "    forces = []\n",
    "    for atom in atoms:\n",
    "        line = alllines[i]\n",
    "        values = line.split()\n",
    "        xforce = abs(float(values[3]))\n",
    "        yforce = abs(float(values[4]))\n",
    "        zforce = abs(float(values[5]))\n",
    "        force = np.linalg.norm([xforce,yforce,zforce])\n",
    "        forces.append(force)\n",
    "        i+=1\n",
    "    fmax = round(max(forces),5)\n",
    "    fmax_value = fmax\n",
    "    print('Max force is {0} eV/A'.format(fmax))"
   ]
  },
  {
   "cell_type": "code",
   "execution_count": null,
   "id": "4f1b443f",
   "metadata": {},
   "outputs": [],
   "source": [
    "n_iteration = subprocess.check_output(\"grep 'F=' \"+ Directory + \"OSZICAR | tail -1\", shell=True)\n",
    "n_iteration = n_iteration.decode('utf-8') # Convert a bytes variable to string variable\n",
    "n_iteration = int(n_iteration.split()[0])\n",
    "\n",
    "# print(\"Number of Iterations, \", n_iteration)\n",
    "\n",
    "f = open(Directory + 'OSZICAR')\n",
    "alllines=f.readlines()\n",
    "f.close()\n",
    "n = len(alllines)\n",
    "\n",
    "it = 0\n",
    "\n",
    "for i in reversed(range(n)):\n",
    "    line = alllines[i]\n",
    "    if 'F=' in line:\n",
    "        if it == 0:\n",
    "            index_last_iteration = i\n",
    "        elif it == 1:\n",
    "            index_last_iteration_aux = i\n",
    "            \n",
    "        if it == 1:\n",
    "            break\n",
    "            \n",
    "        it+=1\n",
    "        \n",
    "DiffEnergy_Iter = []\n",
    "\n",
    "for i in range(index_last_iteration_aux+2, index_last_iteration):\n",
    "    line = alllines[i].split()\n",
    "    DiffEnergy_Iter.append(float(line[3]))\n",
    "\n",
    "Change_TotalEnergy = DiffEnergy_Iter[-1]\n",
    "print(\"Change of Total Energy, \",Change_TotalEnergy, \"eV\")"
   ]
  },
  {
   "cell_type": "code",
   "execution_count": null,
   "id": "a4ee0a3d",
   "metadata": {},
   "outputs": [],
   "source": [
    "if EDIFFG_value >= 0:\n",
    "    if EDIFFG_value < abs(Change_TotalEnergy):\n",
    "        print(\"Positive EDIFFG, Achieve ionic relaxation criteria?, False\")\n",
    "    else:\n",
    "        print(\"Positive EDIFFG, Achieve ionic relaxation criteria?, True\")\n",
    "else:\n",
    "    if abs(EDIFFG_value) < fmax_value:\n",
    "        print(\"Negative EDIFFG, Achieve ionic relaxation criteria?, False\")\n",
    "    else:\n",
    "        print(\"Negative EDIFFG, Achieve ionic relaxation criteria?, True\")"
   ]
  },
  {
   "cell_type": "markdown",
   "id": "2239c7d6",
   "metadata": {},
   "source": [
    "# Read Folders with DFT Results and Generate a Database"
   ]
  },
  {
   "cell_type": "markdown",
   "id": "03a56c02",
   "metadata": {},
   "source": [
    "## Read VASP Output and Write in Database"
   ]
  },
  {
   "cell_type": "code",
   "execution_count": null,
   "id": "eb2520fc",
   "metadata": {},
   "outputs": [],
   "source": [
    "DirectoryName = result_batch_command[0]\n",
    "\n",
    "# Read Folder with VASP Output\n",
    "calc   = Vasp(directory = DirectoryName)\n",
    "calc.read()"
   ]
  },
  {
   "cell_type": "markdown",
   "id": "4caaff39",
   "metadata": {},
   "source": [
    "## Connect to Database or Generate Database"
   ]
  },
  {
   "cell_type": "code",
   "execution_count": null,
   "id": "6f8ad738",
   "metadata": {},
   "outputs": [],
   "source": [
    "# We need to establish a connection to a database\n",
    "DatabaseName = 'Database_Default.db'\n",
    "\n",
    "# Use append=False to start a new database.\n",
    "con = connect(DatabaseName, append=False)\n",
    "\n",
    "# Write in the Database\n",
    "con.write(calc.get_atoms())"
   ]
  },
  {
   "cell_type": "markdown",
   "id": "311f1f8a",
   "metadata": {},
   "source": [
    "## Get Name of Default Keys"
   ]
  },
  {
   "cell_type": "code",
   "execution_count": null,
   "id": "f4f75936",
   "metadata": {},
   "outputs": [],
   "source": [
    "db = connect(DatabaseName)\n",
    "row = db.get(id = 1)\n",
    "\n",
    "for key in row:\n",
    "    print('{0}'.format(key))  "
   ]
  },
  {
   "cell_type": "markdown",
   "id": "14ae4d0d",
   "metadata": {},
   "source": [
    "## Get Values of those defaults keys"
   ]
  },
  {
   "cell_type": "code",
   "execution_count": null,
   "id": "ae8db8bb",
   "metadata": {},
   "outputs": [],
   "source": [
    "for key in row:\n",
    "    print('{0:22}: {1}'.format(key, row[key]))  "
   ]
  },
  {
   "cell_type": "markdown",
   "id": "c6c3597c",
   "metadata": {},
   "source": [
    "# You can add Custom Keys to your database"
   ]
  },
  {
   "cell_type": "code",
   "execution_count": null,
   "id": "1cc18deb",
   "metadata": {},
   "outputs": [],
   "source": [
    "# We need to establish a connection to a database\n",
    "DatabaseName = 'Database_Custom.db'\n",
    "\n",
    "# Use append=False to start a new database.\n",
    "con = connect(DatabaseName, append=False)\n",
    "\n",
    "Directory = result_batch_command[0]\n",
    "\n",
    "# Read Folder with VASP Output\n",
    "calc      = Vasp(directory = Directory)\n",
    "calc.read()\n",
    "\n",
    "# Write in the Database\n",
    "con.write(calc.get_atoms(), Functional = \"PBE\", VaspVersion = \"5.4.1\")"
   ]
  },
  {
   "cell_type": "code",
   "execution_count": null,
   "id": "b28a5b7e",
   "metadata": {},
   "outputs": [],
   "source": [
    "db = connect(DatabaseName)\n",
    "row = db.get(id = 1)\n",
    "\n",
    "for key in row:\n",
    "    print('{0:22}: {1}'.format(key, row[key]))  "
   ]
  },
  {
   "cell_type": "markdown",
   "id": "8b776d87",
   "metadata": {},
   "source": [
    "## Recover CONTCAR from ASE Database"
   ]
  },
  {
   "cell_type": "code",
   "execution_count": null,
   "id": "b63d4a44",
   "metadata": {},
   "outputs": [],
   "source": [
    "# We need to establish a connection to a database\n",
    "DatabaseName = 'Database_Custom_Expand.db'\n",
    "\n",
    "# Use append=False to start a new database.\n",
    "con = connect(DatabaseName, append=False)\n",
    "\n",
    "for i in result_batch_command:\n",
    "    Directory = i\n",
    "\n",
    "    # Read Folder with VASP Output\n",
    "    calc      = Vasp(directory = Directory)\n",
    "    calc.read()\n",
    "\n",
    "    # Write in the Database\n",
    "    con.write(calc.get_atoms())"
   ]
  },
  {
   "cell_type": "code",
   "execution_count": null,
   "id": "63762dea",
   "metadata": {},
   "outputs": [],
   "source": [
    "# Connect to database\n",
    "db_connected = connect(DatabaseName)\n",
    "\n",
    "i = 0\n",
    "\n",
    "# Iteration per data (each row is a structure)\n",
    "for row in db_connected.select():\n",
    "    atoms = row.toatoms()\n",
    "    \n",
    "    # Used to create the directory in the case that it does not exist\n",
    "    boolean_folder = os.path.isdir(\"CONTCAR_files\")\n",
    "    if boolean_folder == False:\n",
    "        os.mkdir(\"CONTCAR_files\")\n",
    "    \n",
    "    # Write the CONTCAR file\n",
    "    atoms.write(\"CONTCAR_files/CONTCAR_{i}.vasp\".format(i=i))\n",
    "    \n",
    "    i += 1\n",
    "        "
   ]
  },
  {
   "cell_type": "markdown",
   "id": "ba8b6342",
   "metadata": {},
   "source": [
    "## Using ASE Database to Generate Dataframe"
   ]
  },
  {
   "cell_type": "code",
   "execution_count": null,
   "id": "a1fb1f35",
   "metadata": {},
   "outputs": [],
   "source": [
    "Dataframe_from_ASEDatabase = pd.DataFrame(columns=['ID', 'Calculator', 'CalculatorVersion','PotentialEnergy'])\n",
    "\n",
    "\n",
    "db_Z2H2_PBE = connect('Database_Custom.db')\n",
    "\n",
    "\n",
    "for row in db_Z2H2_PBE.select():\n",
    "    atoms                  = row.toatoms()\n",
    "    EnergyCurrent          = atoms.get_potential_energy()\n",
    "    \n",
    "    id                     = row.id\n",
    "    calculator             = row.calculator\n",
    "    calculatorVersion        = row.VaspVersion\n",
    "    \n",
    "    auxArray = np.array([id, calculator, calculatorVersion, EnergyCurrent])\n",
    "        \n",
    "    Dataframe_from_ASEDatabase.loc[len(Dataframe_from_ASEDatabase.index)] = auxArray\n",
    "\n",
    "\n",
    "## Convert to Numeric the corresponding Features\n",
    "cols = Dataframe_from_ASEDatabase.columns.drop(['Calculator', 'CalculatorVersion'])\n",
    "Dataframe_from_ASEDatabase[cols] = Dataframe_from_ASEDatabase[cols].apply(pd.to_numeric, errors='coerce')"
   ]
  },
  {
   "cell_type": "code",
   "execution_count": null,
   "id": "169ae0b5",
   "metadata": {},
   "outputs": [],
   "source": [
    "## Get the first 5 item in the dataframe\n",
    "Dataframe_from_ASEDatabase.head()"
   ]
  }
 ],
 "metadata": {
  "kernelspec": {
   "display_name": "Python 3 (ipykernel)",
   "language": "python",
   "name": "python3"
  },
  "language_info": {
   "codemirror_mode": {
    "name": "ipython",
    "version": 3
   },
   "file_extension": ".py",
   "mimetype": "text/x-python",
   "name": "python",
   "nbconvert_exporter": "python",
   "pygments_lexer": "ipython3",
   "version": "3.8.10"
  },
  "vscode": {
   "interpreter": {
    "hash": "e23c30ff19bbb3e6f44b6f54d3e2bc5e5e9bb9e9e0742a2c3cdfd1a21545f643"
   }
  }
 },
 "nbformat": 4,
 "nbformat_minor": 5
}
